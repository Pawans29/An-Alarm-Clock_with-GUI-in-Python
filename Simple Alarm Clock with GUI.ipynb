{
 "cells": [
  {
   "cell_type": "code",
   "execution_count": 1,
   "id": "3e59d496",
   "metadata": {},
   "outputs": [
    {
     "name": "stdout",
     "output_type": "stream",
     "text": [
      "Requirement already satisfied: pygame in c:\\users\\dell\\anaconda_base_file\\lib\\site-packages (2.1.1)\n"
     ]
    }
   ],
   "source": [
    "!pip install pygame"
   ]
  },
  {
   "cell_type": "code",
   "execution_count": 2,
   "id": "d4dfdce0",
   "metadata": {},
   "outputs": [
    {
     "name": "stdout",
     "output_type": "stream",
     "text": [
      "pygame 2.1.1 (SDL 2.0.18, Python 3.8.8)\n",
      "Hello from the pygame community. https://www.pygame.org/contribute.html\n"
     ]
    }
   ],
   "source": [
    "## importing the libraries needed\n",
    "\n",
    "from tkinter import *\n",
    "import datetime\n",
    "import time\n",
    "import winsound\n",
    "from threading import *\n",
    "from pygame import *\n",
    "import os"
   ]
  },
  {
   "cell_type": "code",
   "execution_count": 3,
   "id": "0f113be1",
   "metadata": {},
   "outputs": [
    {
     "data": {
      "text/plain": [
       "''"
      ]
     },
     "execution_count": 3,
     "metadata": {},
     "output_type": "execute_result"
    }
   ],
   "source": [
    "# Create Object\n",
    "root = Tk()\n",
    "root.title(\"Alarm-Clock\") \n"
   ]
  },
  {
   "cell_type": "code",
   "execution_count": 4,
   "id": "2e15224a",
   "metadata": {},
   "outputs": [],
   "source": [
    "def setalarm():\n",
    "    alarmtime=f\"{hrs.get()}:{mins.get()}:{secs.get()}\"\n",
    "    print(alarmtime)\n",
    "    if(alarmtime!=\"::\"):\n",
    "        alarmclock(alarmtime)"
   ]
  },
  {
   "cell_type": "code",
   "execution_count": 5,
   "id": "40031ac7",
   "metadata": {},
   "outputs": [
    {
     "data": {
      "text/plain": [
       "'C:\\\\Users\\\\DELL'"
      ]
     },
     "execution_count": 5,
     "metadata": {},
     "output_type": "execute_result"
    }
   ],
   "source": [
    "os.getcwd()"
   ]
  },
  {
   "cell_type": "code",
   "execution_count": 6,
   "id": "4054b142",
   "metadata": {},
   "outputs": [],
   "source": [
    "## creating a function for the alarm clock and defining its features\n",
    "\n",
    "def alarmclock(alarmtime): \n",
    "    while True:\n",
    "        time.sleep(1)\n",
    "        time_now=datetime.datetime.now().strftime(\"%H:%M:%S\")\n",
    "        print(time_now)\n",
    "        if time_now==alarmtime:\n",
    "            Wakeup=Label(root, font = ('arial', 20, 'bold'),\n",
    "            text=\"Hey get up, Its Time !!!!\",bg=\"white\",fg=\"black\").grid(row=7,columnspan=5)\n",
    "            print(\"Get Up!!!!!!!\")\n",
    "            mixer.init()\n",
    "            mixer.music.load(r'C:\\Users\\DELL\\Lucknow Train Announcement Hindi.mp3')\n",
    "            mixer.music.play()\n",
    "            break"
   ]
  },
  {
   "cell_type": "code",
   "execution_count": 7,
   "id": "7060ae17",
   "metadata": {},
   "outputs": [],
   "source": [
    "## for passing the hrs, mins and secs we will pass it is a string variable\n",
    "\n",
    "hrs=StringVar()\n",
    "mins=StringVar()\n",
    "secs=StringVar()"
   ]
  },
  {
   "cell_type": "code",
   "execution_count": 8,
   "id": "0011909e",
   "metadata": {},
   "outputs": [],
   "source": [
    "## getting message\n",
    "\n",
    "greeting=Label(root, font = ('arial', 20, 'bold'),text=\"Take a nap!\")"
   ]
  },
  {
   "cell_type": "code",
   "execution_count": 9,
   "id": "8b3c55e3",
   "metadata": {},
   "outputs": [
    {
     "ename": "KeyboardInterrupt",
     "evalue": "",
     "output_type": "error",
     "traceback": [
      "\u001b[1;31m---------------------------------------------------------------------------\u001b[0m",
      "\u001b[1;31mKeyboardInterrupt\u001b[0m                         Traceback (most recent call last)",
      "\u001b[1;32m~\\AppData\\Local\\Temp/ipykernel_12188/953122248.py\u001b[0m in \u001b[0;36m<module>\u001b[1;34m\u001b[0m\n\u001b[0;32m     18\u001b[0m \u001b[0mtimeleft\u001b[0m\u001b[1;33m.\u001b[0m\u001b[0mgrid\u001b[0m\u001b[1;33m(\u001b[0m\u001b[1;33m)\u001b[0m\u001b[1;33m\u001b[0m\u001b[1;33m\u001b[0m\u001b[0m\n\u001b[0;32m     19\u001b[0m \u001b[1;33m\u001b[0m\u001b[0m\n\u001b[1;32m---> 20\u001b[1;33m \u001b[0mmainloop\u001b[0m\u001b[1;33m(\u001b[0m\u001b[1;33m)\u001b[0m\u001b[1;33m\u001b[0m\u001b[1;33m\u001b[0m\u001b[0m\n\u001b[0m\u001b[0;32m     21\u001b[0m \u001b[1;33m\u001b[0m\u001b[0m\n\u001b[0;32m     22\u001b[0m \u001b[1;33m\u001b[0m\u001b[0m\n",
      "\u001b[1;32m~\\Anaconda_Base_File\\lib\\tkinter\\__init__.py\u001b[0m in \u001b[0;36mmainloop\u001b[1;34m(n)\u001b[0m\n\u001b[0;32m    601\u001b[0m \u001b[1;32mdef\u001b[0m \u001b[0mmainloop\u001b[0m\u001b[1;33m(\u001b[0m\u001b[0mn\u001b[0m\u001b[1;33m=\u001b[0m\u001b[1;36m0\u001b[0m\u001b[1;33m)\u001b[0m\u001b[1;33m:\u001b[0m\u001b[1;33m\u001b[0m\u001b[1;33m\u001b[0m\u001b[0m\n\u001b[0;32m    602\u001b[0m     \u001b[1;34m\"\"\"Run the main loop of Tcl.\"\"\"\u001b[0m\u001b[1;33m\u001b[0m\u001b[1;33m\u001b[0m\u001b[0m\n\u001b[1;32m--> 603\u001b[1;33m     \u001b[0m_get_default_root\u001b[0m\u001b[1;33m(\u001b[0m\u001b[1;34m'run the main loop'\u001b[0m\u001b[1;33m)\u001b[0m\u001b[1;33m.\u001b[0m\u001b[0mtk\u001b[0m\u001b[1;33m.\u001b[0m\u001b[0mmainloop\u001b[0m\u001b[1;33m(\u001b[0m\u001b[0mn\u001b[0m\u001b[1;33m)\u001b[0m\u001b[1;33m\u001b[0m\u001b[1;33m\u001b[0m\u001b[0m\n\u001b[0m\u001b[0;32m    604\u001b[0m \u001b[1;33m\u001b[0m\u001b[0m\n\u001b[0;32m    605\u001b[0m \u001b[1;33m\u001b[0m\u001b[0m\n",
      "\u001b[1;31mKeyboardInterrupt\u001b[0m: "
     ]
    }
   ],
   "source": [
    "\n",
    "## now we will make the buttons \n",
    "## hr button\n",
    "hrbtn=Entry(root,textvariable=hrs,width=5,font =('arial', 20, 'bold'))\n",
    "\n",
    "## mins button\n",
    "\n",
    "minbtn=Entry(root,textvariable=mins,width=5,font = ('arial', 20, 'bold'))\n",
    "\n",
    "## sec button\n",
    "\n",
    "secbtn= Entry(root, textvariable= secs, width = 5, font = ('arial', 20, \"bold\"))\n",
    "\n",
    "## setting up the button\n",
    "\n",
    "setbtn=Button(root,text=\"set alarm\",command=setalarm,bg=\"Black\",fg=\"white\",font = ('arial', 20, 'bold'))\n",
    "\n",
    "timeleft = Label(root,font=('arial', 20, 'bold')) \n",
    "timeleft.grid()\n",
    "  \n",
    "mainloop() \n",
    "\n",
    "\n"
   ]
  },
  {
   "cell_type": "code",
   "execution_count": null,
   "id": "427171de",
   "metadata": {},
   "outputs": [],
   "source": []
  },
  {
   "cell_type": "code",
   "execution_count": null,
   "id": "f00357e4",
   "metadata": {},
   "outputs": [],
   "source": []
  }
 ],
 "metadata": {
  "kernelspec": {
   "display_name": "Python 3 (ipykernel)",
   "language": "python",
   "name": "python3"
  },
  "language_info": {
   "codemirror_mode": {
    "name": "ipython",
    "version": 3
   },
   "file_extension": ".py",
   "mimetype": "text/x-python",
   "name": "python",
   "nbconvert_exporter": "python",
   "pygments_lexer": "ipython3",
   "version": "3.8.8"
  }
 },
 "nbformat": 4,
 "nbformat_minor": 5
}
